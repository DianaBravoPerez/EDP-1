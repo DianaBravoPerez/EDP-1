{
  "nbformat": 4,
  "nbformat_minor": 0,
  "metadata": {
    "colab": {
      "provenance": [],
      "authorship_tag": "ABX9TyNApN82QdjXLdyYm7v7/eWx",
      "include_colab_link": true
    },
    "kernelspec": {
      "name": "python3",
      "display_name": "Python 3"
    },
    "language_info": {
      "name": "python"
    }
  },
  "cells": [
    {
      "cell_type": "markdown",
      "metadata": {
        "id": "view-in-github",
        "colab_type": "text"
      },
      "source": [
        "<a href=\"https://colab.research.google.com/github/DianaBravoPerez/EDP-1/blob/main/Untitled24.ipynb\" target=\"_parent\"><img src=\"https://colab.research.google.com/assets/colab-badge.svg\" alt=\"Open In Colab\"/></a>"
      ]
    },
    {
      "cell_type": "markdown",
      "source": [
        "**EL USUARIO DEBE AGREGAR LAS VARIABLES PARA SABER QUÉ TIPO DE ECUACIÓN ES: Hiperbólica, Parabólica ó Eliptíca**"
      ],
      "metadata": {
        "id": "Ak4Z7eERfItI"
      }
    },
    {
      "cell_type": "code",
      "source": [
        "# Solicita los valores de A, B y C al usuario\n",
        "A = float(input(\"Ingresa el valor de A: \"))\n",
        "B = float(input(\"Ingresa el valor de B: \"))\n",
        "C = float(input(\"Ingresa el valor de C: \"))\n",
        "\n",
        "# Cálculo del discriminante\n",
        "E = B**2 - 4*A*C\n",
        "\n",
        "# Clasificación\n",
        "if E > 0:\n",
        "    tipo = \"Hiperbólica\"\n",
        "elif E == 0:\n",
        "    tipo = \"Parabólica\"\n",
        "else:\n",
        "    tipo = \"Elíptica\"\n",
        "\n",
        "# Resultados\n",
        "print(f\"\\nCoeficientes: A = {A}, B = {B}, C = {C}\")\n",
        "print(f\"Discriminante E = B^2 - 4AC = {E}\")\n",
        "print(f\"La ecuación es: {tipo}\")\n"
      ],
      "metadata": {
        "id": "q7shksqnaVQf",
        "colab": {
          "base_uri": "https://localhost:8080/"
        },
        "outputId": "90487712-536a-4025-d86b-bf9df92dcd8a"
      },
      "execution_count": 7,
      "outputs": [
        {
          "output_type": "stream",
          "name": "stdout",
          "text": [
            "Ingresa el valor de A: 1\n",
            "Ingresa el valor de B: 4\n",
            "Ingresa el valor de C: -4\n",
            "\n",
            "Coeficientes: A = 1.0, B = 4.0, C = -4.0\n",
            "Discriminante E = B^2 - 4AC = 32.0\n",
            "La ecuación es: Hiperbólica\n"
          ]
        }
      ]
    },
    {
      "cell_type": "markdown",
      "source": [
        "**EL USUARIO DEBE AGREGAR LAS VARIABLES PARA SABER QUÉ TIPO DE ECUACIÓN ES, SU TRANSFORMACIÓN LINEAL, Y LA FORMA CANÓNICA (Puede incluir cambio de variable o no)**"
      ],
      "metadata": {
        "id": "5Dh8GrzActeO"
      }
    },
    {
      "cell_type": "code",
      "source": [
        "import sympy as sp\n",
        "\n",
        "# Declaramos variables simbólicas\n",
        "x, y = sp.symbols('x y')\n",
        "A = sp.sympify(input(\"Ingresa el coeficiente A: \"))\n",
        "B = sp.sympify(input(\"Ingresa el coeficiente B: \"))\n",
        "C = sp.sympify(input(\"Ingresa el coeficiente C: \"))\n",
        "\n",
        "# Cálculo del discriminante\n",
        "E = B**2 - 4*A*C\n",
        "\n",
        "# Determina el tipo de EDP\n",
        "if E > 0:\n",
        "    tipo = \"Hiperbólica\"\n",
        "elif E == 0:\n",
        "    tipo = \"Parabólica\"\n",
        "else:\n",
        "    tipo = \"Elíptica\"\n",
        "\n",
        "print(f\"\\nEl discriminante E = {E}\")\n",
        "print(f\"La ecuación es: {tipo}\")\n",
        "\n",
        "# Si es hiperbólica, hace el cambio de variables\n",
        "if tipo == \"Hiperbólica\":\n",
        "    # Definimos las nuevas variables (transformación lineal del pizarrón)\n",
        "    sqrt_E = sp.sqrt(E)\n",
        "\n",
        "    xi = -(B + sqrt_E)*x + 2*A*y\n",
        "    eta = -(B - sqrt_E)*x + 2*A*y\n",
        "\n",
        "    print(\"\\nTransformación lineal para llevar a forma canónica:\")\n",
        "    print(f\"ξ = {xi}\")\n",
        "    print(f\"η = {eta}\")\n",
        "\n",
        "    # EDP canónica hiperbólica: U_{ξη} + ... = 0\n",
        "    print(\"\\nLa forma canónica de la EDP (hiperbólica) es:\")\n",
        "    print(\"U_{ξη} + términos de orden inferior = 0\")\n",
        "\n",
        "else:\n",
        "    print(\"\\nNo se realiza cambio de variables porque la ecuación no es hiperbólica.\")\n"
      ],
      "metadata": {
        "id": "s2CLm4S2cmLP"
      },
      "execution_count": null,
      "outputs": []
    }
  ]
}